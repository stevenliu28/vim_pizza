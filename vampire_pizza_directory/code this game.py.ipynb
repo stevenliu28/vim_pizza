{
 "cells": [
  {
   "cell_type": "code",
   "execution_count": 1,
   "id": "30e754b6",
   "metadata": {},
   "outputs": [
    {
     "data": {
      "text/plain": [
       "'THIS SHOULD BE ALL CAPS'"
      ]
     },
     "execution_count": 1,
     "metadata": {},
     "output_type": "execute_result"
    }
   ],
   "source": [
    "# this will turn it into all caps\n",
    "\n",
    "words='this should be all caps'\n",
    "words.upper()\n"
   ]
  },
  {
   "cell_type": "code",
   "execution_count": 2,
   "id": "25015da6",
   "metadata": {},
   "outputs": [
    {
     "data": {
      "text/plain": [
       "['apple', 'orange', 'peach']"
      ]
     },
     "execution_count": 2,
     "metadata": {},
     "output_type": "execute_result"
    }
   ],
   "source": [
    "# this is an array\n",
    "fruits=['apple','orange','peach']\n",
    "fruits"
   ]
  },
  {
   "cell_type": "code",
   "execution_count": 5,
   "id": "3e22fae1",
   "metadata": {},
   "outputs": [
    {
     "name": "stdout",
     "output_type": "stream",
     "text": [
      "What is your name?Abbie\n",
      "Hello Abbie!\n"
     ]
    }
   ],
   "source": [
    "# input new value for a variable\n",
    "name=input('What is your name?')\n",
    "print ('Hello '+name+'!')"
   ]
  },
  {
   "cell_type": "code",
   "execution_count": 2,
   "id": "963afaec",
   "metadata": {},
   "outputs": [
    {
     "name": "stdout",
     "output_type": "stream",
     "text": [
      "what is your age8\n",
      "you are 8 years old\n"
     ]
    }
   ],
   "source": [
    "age=input(\"what is your age\")\n",
    "print(f\"you are {age} years old\")"
   ]
  },
  {
   "cell_type": "code",
   "execution_count": null,
   "id": "15d0b3b2",
   "metadata": {},
   "outputs": [],
   "source": []
  },
  {
   "cell_type": "code",
   "execution_count": null,
   "id": "ff222f29",
   "metadata": {},
   "outputs": [],
   "source": [
    "if 1=1:\n",
    "    print"
   ]
  }
 ],
 "metadata": {
  "kernelspec": {
   "display_name": "Python 3 (ipykernel)",
   "language": "python",
   "name": "python3"
  },
  "language_info": {
   "codemirror_mode": {
    "name": "ipython",
    "version": 3
   },
   "file_extension": ".py",
   "mimetype": "text/x-python",
   "name": "python",
   "nbconvert_exporter": "python",
   "pygments_lexer": "ipython3",
   "version": "3.10.4"
  }
 },
 "nbformat": 4,
 "nbformat_minor": 5
}
